{
 "cells": [
  {
   "cell_type": "code",
   "execution_count": 1,
   "metadata": {},
   "outputs": [
    {
     "name": "stdout",
     "output_type": "stream",
     "text": [
      "Requirement already satisfied: requests in c:\\python311\\lib\\site-packages (2.28.2)\n",
      "Requirement already satisfied: charset-normalizer<4,>=2 in c:\\python311\\lib\\site-packages (from requests) (3.1.0)\n",
      "Requirement already satisfied: idna<4,>=2.5 in c:\\python311\\lib\\site-packages (from requests) (3.4)\n",
      "Requirement already satisfied: urllib3<1.27,>=1.21.1 in c:\\python311\\lib\\site-packages (from requests) (1.26.15)\n",
      "Requirement already satisfied: certifi>=2017.4.17 in c:\\python311\\lib\\site-packages (from requests) (2022.12.7)\n",
      "Note: you may need to restart the kernel to use updated packages.\n"
     ]
    },
    {
     "name": "stderr",
     "output_type": "stream",
     "text": [
      "\n",
      "[notice] A new release of pip is available: 23.0 -> 23.0.1\n",
      "[notice] To update, run: python.exe -m pip install --upgrade pip\n"
     ]
    },
    {
     "name": "stdout",
     "output_type": "stream",
     "text": [
      "Requirement already satisfied: bs4 in c:\\python311\\lib\\site-packages (0.0.1)\n",
      "Requirement already satisfied: beautifulsoup4 in c:\\python311\\lib\\site-packages (from bs4) (4.12.0)\n",
      "Requirement already satisfied: soupsieve>1.2 in c:\\python311\\lib\\site-packages (from beautifulsoup4->bs4) (2.4)\n",
      "Note: you may need to restart the kernel to use updated packages.\n"
     ]
    },
    {
     "name": "stderr",
     "output_type": "stream",
     "text": [
      "\n",
      "[notice] A new release of pip is available: 23.0 -> 23.0.1\n",
      "[notice] To update, run: python.exe -m pip install --upgrade pip\n"
     ]
    },
    {
     "name": "stdout",
     "output_type": "stream",
     "text": [
      "Requirement already satisfied: flask in c:\\python311\\lib\\site-packages (2.2.3)\n",
      "Requirement already satisfied: Werkzeug>=2.2.2 in c:\\python311\\lib\\site-packages (from flask) (2.2.3)\n",
      "Requirement already satisfied: Jinja2>=3.0 in c:\\python311\\lib\\site-packages (from flask) (3.1.2)\n",
      "Requirement already satisfied: itsdangerous>=2.0 in c:\\python311\\lib\\site-packages (from flask) (2.1.2)\n",
      "Requirement already satisfied: click>=8.0 in c:\\python311\\lib\\site-packages (from flask) (8.1.3)\n",
      "Requirement already satisfied: colorama in c:\\users\\tbara\\appdata\\roaming\\python\\python311\\site-packages (from click>=8.0->flask) (0.4.6)\n",
      "Requirement already satisfied: MarkupSafe>=2.0 in c:\\python311\\lib\\site-packages (from Jinja2>=3.0->flask) (2.1.2)\n",
      "Note: you may need to restart the kernel to use updated packages.\n"
     ]
    },
    {
     "name": "stderr",
     "output_type": "stream",
     "text": [
      "\n",
      "[notice] A new release of pip is available: 23.0 -> 23.0.1\n",
      "[notice] To update, run: python.exe -m pip install --upgrade pip\n"
     ]
    }
   ],
   "source": [
    "%pip install requests\n",
    "%pip install bs4\n",
    "%pip install flask\n"
   ]
  },
  {
   "cell_type": "code",
   "execution_count": 2,
   "metadata": {},
   "outputs": [],
   "source": [
    "from requests import get\n",
    "from bs4 import BeautifulSoup\n",
    "from flask import Flask, render_template, request, redirect, send_file\n"
   ]
  },
  {
   "cell_type": "code",
   "execution_count": 3,
   "metadata": {},
   "outputs": [],
   "source": [
    "def save_to_file(file_name, jobs):\n",
    "    file = open(f\"{file_name}.csv\", \"w\")\n",
    "    file.write(\"Position,Company,URL\\n\")\n",
    "\n",
    "    for job in jobs:\n",
    "        file.write(f\"{job['title']},\" + f\"{job['company']},\" + f\"{job['link']}\\n\")\n",
    "    file.close()\n"
   ]
  },
  {
   "cell_type": "code",
   "execution_count": 4,
   "metadata": {},
   "outputs": [],
   "source": [
    "def remoteok_extract_jobs(keyword):\n",
    "    results = []\n",
    "    url = f\"https://remoteok.com/remote-{keyword}-jobs\"\n",
    "    request = get(url, headers={\"User-Agent\": \"Kimchi\"})\n",
    "    if request.status_code == 200:\n",
    "        soup = BeautifulSoup(request.text, \"html.parser\")\n",
    "        jobs = soup.find_all(\"tr\", {\"class\": \"job\"})\n",
    "        for job in jobs:\n",
    "            # ! strip()은 공백을 제거해준다.\n",
    "            title = job.find(\"h2\", {\"itemprop\": \"title\"}).text.strip()\n",
    "            company = job.find(\"h3\", {\"itemprop\": \"name\"}).text.strip()\n",
    "            link = job.find(\"a\", {\"itemprop\": \"url\"})[\"href\"]\n",
    "            job_data = {\n",
    "                \"title\": title,\n",
    "                \"company\": company,\n",
    "                \"link\": f\"https://remoteok.com{link}\"\n",
    "            }\n",
    "            results.append(job_data)\n",
    "            print(f\"{title} - {company} - {link}\")\n",
    "            # write your ✨magical✨ code here\n",
    "        return results\n",
    "    else:\n",
    "        print(\"Can't get jobs.\")\n"
   ]
  },
  {
   "cell_type": "code",
   "execution_count": 5,
   "metadata": {},
   "outputs": [],
   "source": [
    "def weworkremotely_extract_jobs(keyword):\n",
    "    results = []\n",
    "    url = f\"https://weworkremotely.com/remote-jobs/search?term={keyword}\"\n",
    "    request = get(url, headers={\"User-Agent\": \"Kimchi\"})\n",
    "    if request.status_code == 200:\n",
    "        soup = BeautifulSoup(request.text, \"html.parser\")\n",
    "        jobs = soup.find_all(\"li\", {\"class\": \"feature\"})\n",
    "        for job in jobs:\n",
    "            title = job.find(\"span\", {\"class\": \"title\"}).text.strip()\n",
    "            company = job.find(\"span\", {\"class\": \"company\"}).text.strip()\n",
    "            link = job.find_all(\"a\")[1]['href']\n",
    "            \n",
    "            job_data = {\n",
    "                \"title\": title, \n",
    "                \"company\": company,\n",
    "                \"link\": f\"https://weworkremotely.com{link}\"\n",
    "            }\n",
    "            \n",
    "            results.append(job_data)\n",
    "            print(f\"{title} - {company} - {link}\")\n",
    "        return results\n"
   ]
  },
  {
   "cell_type": "code",
   "execution_count": null,
   "metadata": {},
   "outputs": [],
   "source": []
  },
  {
   "cell_type": "code",
   "execution_count": 6,
   "metadata": {},
   "outputs": [],
   "source": [
    "app = Flask(\"JobScrapper\")\n",
    "\n",
    "\n",
    "@app.route(\"/\")\n",
    "def home():\n",
    "    return render_template(\"home.html\", name=\"jeongbin\")\n",
    "\n",
    "\n",
    "@app.route(\"/hello\")\n",
    "def hello():\n",
    "    return 'hello!'\n",
    "\n",
    "\n",
    "@app.route(\"/search\")\n",
    "def search():\n",
    "    keyword = request.args.get(\"keyword\")\n",
    "    if keyword:\n",
    "        keyword = keyword.lower()\n",
    "        remoteok = remoteok_extract_jobs(keyword)\n",
    "        weworkremotely = weworkremotely_extract_jobs(keyword)\n",
    "        jobs = remoteok + weworkremotely\n",
    "        \n",
    "        print(jobs)\n",
    "        return render_template(\"search.html\", keyword=keyword, jobs=jobs)\n",
    "    else:\n",
    "        return redirect(\"/\")\n",
    "    \n",
    "\n",
    "@app.route(\"/export\")\n",
    "def export():\n",
    "    keyword = request.args.get(\"keyword\")\n",
    "    if keyword:\n",
    "        keyword = keyword.lower()\n",
    "        jobs = remoteok_extract_jobs(keyword) + weworkremotely_extract_jobs(keyword)\n",
    "        save_to_file(keyword, jobs)\n",
    "    return send_file(f\"{keyword}.csv\", as_attachment=True)\n"
   ]
  },
  {
   "cell_type": "code",
   "execution_count": 7,
   "metadata": {},
   "outputs": [
    {
     "name": "stdout",
     "output_type": "stream",
     "text": [
      " * Serving Flask app 'JobScrapper'\n",
      " * Debug mode: off\n"
     ]
    },
    {
     "name": "stderr",
     "output_type": "stream",
     "text": [
      "WARNING: This is a development server. Do not use it in a production deployment. Use a production WSGI server instead.\n",
      " * Running on all addresses (0.0.0.0)\n",
      " * Running on http://127.0.0.1:8000\n",
      " * Running on http://192.168.0.194:8000\n",
      "Press CTRL+C to quit\n"
     ]
    },
    {
     "name": "stdout",
     "output_type": "stream",
     "text": [
      "AI engineer - Sticker Mule - /remote-jobs/remote-ai-engineer-sticker-mule-213158\n",
      "Fullstack developer senior - CloudDevs - /remote-jobs/remote-fullstack-developer-senior-clouddevs-207318\n",
      "Senior Backend Python Developer - Proxify - /remote-jobs/remote-senior-backend-python-developer-proxify-206355\n",
      "Workflow Automation Specialist - Opzer.co - /remote-jobs/remote-workflow-automation-specialist-opzer-co-202539\n",
      "Data Engineer - Art Blocks - /remote-jobs/remote-data-engineer-art-blocks-201880\n",
      "Data Engineer Intern - DeFiner - /remote-jobs/remote-data-engineer-intern-definer-199886\n",
      "DevOps Engineer Freelance - Braintrust - /remote-jobs/remote-devops-engineer-freelance-braintrust-199343\n",
      "Data Engineer - Scalapay - /remote-jobs/remote-data-engineer-scalapay-188410\n",
      "Engineer Golang Python - FinCompare - /remote-jobs/remote-engineer-golang-python-fincompare-183780\n",
      "Senior DevOps Engineer - Twist Bioscience - /remote-jobs/remote-senior-devops-engineer-twist-bioscience-167248\n",
      "Senior Software Engineer Test Hybrid - SonicWall - /remote-jobs/remote-senior-software-engineer-test-hybrid-sonicwall-166721\n",
      "Penetration Tester - ScienceLogic - /remote-jobs/remote-penetration-tester-sciencelogic-164585\n",
      "Senior Site Reliability Expert - Lightspeed Commerce - /remote-jobs/remote-senior-site-reliability-expert-lightspeed-commerce-163296\n",
      "Online Technology Intern - PlayStation Global - /remote-jobs/remote-online-technology-intern-playstation-global-157134\n",
      "Lead Data Engineer - ICF - /remote-jobs/remote-lead-data-engineer-icf-156917\n",
      "Technical Lead Data Pipeline GPU Python C+ - Planet - /remote-jobs/remote-technical-lead-data-pipeline-gpu-python-c-planet-156908\n",
      "Solution Architect - ICF - /remote-jobs/remote-solution-architect-icf-156887\n",
      "IT Manager - Civis Analytics - /remote-jobs/remote-it-manager-civis-analytics-151380\n",
      "Security Automation Engineer - KnowBe4 - /remote-jobs/remote-security-automation-engineer-knowbe4-149809\n",
      "Principal Full Stack Developer - Tailorbird, Inc. - /remote-jobs/remote-principal-full-stack-developer-tailorbird-inc-149437\n"
     ]
    },
    {
     "name": "stderr",
     "output_type": "stream",
     "text": [
      "127.0.0.1 - - [25/Mar/2023 23:00:39] \"GET /search?keyword=python HTTP/1.1\" 200 -\n"
     ]
    },
    {
     "name": "stdout",
     "output_type": "stream",
     "text": [
      "Senior Python Engineer: Long-term job - 100% remote - Proxify AB - /remote-jobs/proxify-ab-senior-python-engineer-long-term-job-100-remote\n",
      "Full Stack Software Engineer (React / Python) - Trustworthy - /remote-jobs/trustworthy-full-stack-software-engineer-react-python\n",
      "Senior Open Source Developer & DevOps (Python, Django, React, AWS/OpenStack) - OpenCraft - /remote-jobs/opencraft-senior-open-source-developer-devops-python-django-react-aws-openstack\n",
      "Senior Backend Engineer (Python) - TestGorilla - /remote-jobs/testgorilla-senior-backend-engineer-python-10\n",
      "Python Platform Engineer - Doximity - /remote-jobs/doximity-python-platform-engineer\n",
      "[{'title': 'AI engineer', 'company': 'Sticker Mule', 'link': 'https://remoteok.com/remote-jobs/remote-ai-engineer-sticker-mule-213158'}, {'title': 'Fullstack developer senior', 'company': 'CloudDevs', 'link': 'https://remoteok.com/remote-jobs/remote-fullstack-developer-senior-clouddevs-207318'}, {'title': 'Senior Backend Python Developer', 'company': 'Proxify', 'link': 'https://remoteok.com/remote-jobs/remote-senior-backend-python-developer-proxify-206355'}, {'title': 'Workflow Automation Specialist', 'company': 'Opzer.co', 'link': 'https://remoteok.com/remote-jobs/remote-workflow-automation-specialist-opzer-co-202539'}, {'title': 'Data Engineer', 'company': 'Art Blocks', 'link': 'https://remoteok.com/remote-jobs/remote-data-engineer-art-blocks-201880'}, {'title': 'Data Engineer Intern', 'company': 'DeFiner', 'link': 'https://remoteok.com/remote-jobs/remote-data-engineer-intern-definer-199886'}, {'title': 'DevOps Engineer Freelance', 'company': 'Braintrust', 'link': 'https://remoteok.com/remote-jobs/remote-devops-engineer-freelance-braintrust-199343'}, {'title': 'Data Engineer', 'company': 'Scalapay', 'link': 'https://remoteok.com/remote-jobs/remote-data-engineer-scalapay-188410'}, {'title': 'Engineer Golang Python', 'company': 'FinCompare', 'link': 'https://remoteok.com/remote-jobs/remote-engineer-golang-python-fincompare-183780'}, {'title': 'Senior DevOps Engineer', 'company': 'Twist Bioscience', 'link': 'https://remoteok.com/remote-jobs/remote-senior-devops-engineer-twist-bioscience-167248'}, {'title': 'Senior Software Engineer Test Hybrid', 'company': 'SonicWall', 'link': 'https://remoteok.com/remote-jobs/remote-senior-software-engineer-test-hybrid-sonicwall-166721'}, {'title': 'Penetration Tester', 'company': 'ScienceLogic', 'link': 'https://remoteok.com/remote-jobs/remote-penetration-tester-sciencelogic-164585'}, {'title': 'Senior Site Reliability Expert', 'company': 'Lightspeed Commerce', 'link': 'https://remoteok.com/remote-jobs/remote-senior-site-reliability-expert-lightspeed-commerce-163296'}, {'title': 'Online Technology Intern', 'company': 'PlayStation Global', 'link': 'https://remoteok.com/remote-jobs/remote-online-technology-intern-playstation-global-157134'}, {'title': 'Lead Data Engineer', 'company': 'ICF', 'link': 'https://remoteok.com/remote-jobs/remote-lead-data-engineer-icf-156917'}, {'title': 'Technical Lead Data Pipeline GPU Python C+', 'company': 'Planet', 'link': 'https://remoteok.com/remote-jobs/remote-technical-lead-data-pipeline-gpu-python-c-planet-156908'}, {'title': 'Solution Architect', 'company': 'ICF', 'link': 'https://remoteok.com/remote-jobs/remote-solution-architect-icf-156887'}, {'title': 'IT Manager', 'company': 'Civis Analytics', 'link': 'https://remoteok.com/remote-jobs/remote-it-manager-civis-analytics-151380'}, {'title': 'Security Automation Engineer', 'company': 'KnowBe4', 'link': 'https://remoteok.com/remote-jobs/remote-security-automation-engineer-knowbe4-149809'}, {'title': 'Principal Full Stack Developer', 'company': 'Tailorbird, Inc.', 'link': 'https://remoteok.com/remote-jobs/remote-principal-full-stack-developer-tailorbird-inc-149437'}, {'title': 'Senior Python Engineer: Long-term job - 100% remote', 'company': 'Proxify AB', 'link': 'https://weworkremotely.com/remote-jobs/proxify-ab-senior-python-engineer-long-term-job-100-remote'}, {'title': 'Full Stack Software Engineer (React / Python)', 'company': 'Trustworthy', 'link': 'https://weworkremotely.com/remote-jobs/trustworthy-full-stack-software-engineer-react-python'}, {'title': 'Senior Open Source Developer & DevOps (Python, Django, React, AWS/OpenStack)', 'company': 'OpenCraft', 'link': 'https://weworkremotely.com/remote-jobs/opencraft-senior-open-source-developer-devops-python-django-react-aws-openstack'}, {'title': 'Senior Backend Engineer (Python)', 'company': 'TestGorilla', 'link': 'https://weworkremotely.com/remote-jobs/testgorilla-senior-backend-engineer-python-10'}, {'title': 'Python Platform Engineer', 'company': 'Doximity', 'link': 'https://weworkremotely.com/remote-jobs/doximity-python-platform-engineer'}]\n",
      "AI engineer - Sticker Mule - /remote-jobs/remote-ai-engineer-sticker-mule-213158\n",
      "Fullstack developer senior - CloudDevs - /remote-jobs/remote-fullstack-developer-senior-clouddevs-207318\n",
      "Senior Backend Python Developer - Proxify - /remote-jobs/remote-senior-backend-python-developer-proxify-206355\n",
      "Workflow Automation Specialist - Opzer.co - /remote-jobs/remote-workflow-automation-specialist-opzer-co-202539\n",
      "Data Engineer - Art Blocks - /remote-jobs/remote-data-engineer-art-blocks-201880\n",
      "Data Engineer Intern - DeFiner - /remote-jobs/remote-data-engineer-intern-definer-199886\n",
      "DevOps Engineer Freelance - Braintrust - /remote-jobs/remote-devops-engineer-freelance-braintrust-199343\n",
      "Data Engineer - Scalapay - /remote-jobs/remote-data-engineer-scalapay-188410\n",
      "Engineer Golang Python - FinCompare - /remote-jobs/remote-engineer-golang-python-fincompare-183780\n",
      "Senior DevOps Engineer - Twist Bioscience - /remote-jobs/remote-senior-devops-engineer-twist-bioscience-167248\n",
      "Senior Software Engineer Test Hybrid - SonicWall - /remote-jobs/remote-senior-software-engineer-test-hybrid-sonicwall-166721\n",
      "Penetration Tester - ScienceLogic - /remote-jobs/remote-penetration-tester-sciencelogic-164585\n",
      "Senior Site Reliability Expert - Lightspeed Commerce - /remote-jobs/remote-senior-site-reliability-expert-lightspeed-commerce-163296\n",
      "Online Technology Intern - PlayStation Global - /remote-jobs/remote-online-technology-intern-playstation-global-157134\n",
      "Lead Data Engineer - ICF - /remote-jobs/remote-lead-data-engineer-icf-156917\n",
      "Technical Lead Data Pipeline GPU Python C+ - Planet - /remote-jobs/remote-technical-lead-data-pipeline-gpu-python-c-planet-156908\n",
      "Solution Architect - ICF - /remote-jobs/remote-solution-architect-icf-156887\n",
      "IT Manager - Civis Analytics - /remote-jobs/remote-it-manager-civis-analytics-151380\n",
      "Security Automation Engineer - KnowBe4 - /remote-jobs/remote-security-automation-engineer-knowbe4-149809\n",
      "Principal Full Stack Developer - Tailorbird, Inc. - /remote-jobs/remote-principal-full-stack-developer-tailorbird-inc-149437\n"
     ]
    },
    {
     "name": "stderr",
     "output_type": "stream",
     "text": [
      "127.0.0.1 - - [25/Mar/2023 23:00:43] \"GET /export?keyword=python HTTP/1.1\" 200 -\n"
     ]
    },
    {
     "name": "stdout",
     "output_type": "stream",
     "text": [
      "Senior Python Engineer: Long-term job - 100% remote - Proxify AB - /remote-jobs/proxify-ab-senior-python-engineer-long-term-job-100-remote\n",
      "Full Stack Software Engineer (React / Python) - Trustworthy - /remote-jobs/trustworthy-full-stack-software-engineer-react-python\n",
      "Senior Open Source Developer & DevOps (Python, Django, React, AWS/OpenStack) - OpenCraft - /remote-jobs/opencraft-senior-open-source-developer-devops-python-django-react-aws-openstack\n",
      "Senior Backend Engineer (Python) - TestGorilla - /remote-jobs/testgorilla-senior-backend-engineer-python-10\n",
      "Python Platform Engineer - Doximity - /remote-jobs/doximity-python-platform-engineer\n"
     ]
    }
   ],
   "source": [
    "app.run(host=\"0.0.0.0\", port=8000)"
   ]
  },
  {
   "cell_type": "code",
   "execution_count": null,
   "metadata": {},
   "outputs": [],
   "source": []
  }
 ],
 "metadata": {
  "kernelspec": {
   "display_name": "Python 3",
   "language": "python",
   "name": "python3"
  },
  "language_info": {
   "codemirror_mode": {
    "name": "ipython",
    "version": 3
   },
   "file_extension": ".py",
   "mimetype": "text/x-python",
   "name": "python",
   "nbconvert_exporter": "python",
   "pygments_lexer": "ipython3",
   "version": "3.11.1"
  },
  "orig_nbformat": 4,
  "vscode": {
   "interpreter": {
    "hash": "c261aea317cc0286b3b3261fbba9abdec21eaa57589985bb7a274bf54d6cc0a7"
   }
  }
 },
 "nbformat": 4,
 "nbformat_minor": 2
}
