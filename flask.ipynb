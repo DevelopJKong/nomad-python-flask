{
 "cells": [
  {
   "cell_type": "code",
   "execution_count": 1,
   "metadata": {},
   "outputs": [
    {
     "name": "stdout",
     "output_type": "stream",
     "text": [
      "Requirement already satisfied: requests in c:\\python311\\lib\\site-packages (2.28.2)\n",
      "Requirement already satisfied: charset-normalizer<4,>=2 in c:\\python311\\lib\\site-packages (from requests) (3.1.0)\n",
      "Requirement already satisfied: idna<4,>=2.5 in c:\\python311\\lib\\site-packages (from requests) (3.4)\n",
      "Requirement already satisfied: urllib3<1.27,>=1.21.1 in c:\\python311\\lib\\site-packages (from requests) (1.26.15)\n",
      "Requirement already satisfied: certifi>=2017.4.17 in c:\\python311\\lib\\site-packages (from requests) (2022.12.7)\n",
      "Note: you may need to restart the kernel to use updated packages.\n"
     ]
    },
    {
     "name": "stderr",
     "output_type": "stream",
     "text": [
      "\n",
      "[notice] A new release of pip is available: 23.0 -> 23.0.1\n",
      "[notice] To update, run: python.exe -m pip install --upgrade pip\n"
     ]
    },
    {
     "name": "stdout",
     "output_type": "stream",
     "text": [
      "Requirement already satisfied: bs4 in c:\\python311\\lib\\site-packages (0.0.1)\n",
      "Requirement already satisfied: beautifulsoup4 in c:\\python311\\lib\\site-packages (from bs4) (4.12.0)\n",
      "Requirement already satisfied: soupsieve>1.2 in c:\\python311\\lib\\site-packages (from beautifulsoup4->bs4) (2.4)\n",
      "Note: you may need to restart the kernel to use updated packages.\n"
     ]
    },
    {
     "name": "stderr",
     "output_type": "stream",
     "text": [
      "\n",
      "[notice] A new release of pip is available: 23.0 -> 23.0.1\n",
      "[notice] To update, run: python.exe -m pip install --upgrade pip\n"
     ]
    },
    {
     "name": "stdout",
     "output_type": "stream",
     "text": [
      "Requirement already satisfied: flask in c:\\python311\\lib\\site-packages (2.2.3)\n",
      "Requirement already satisfied: Werkzeug>=2.2.2 in c:\\python311\\lib\\site-packages (from flask) (2.2.3)\n",
      "Requirement already satisfied: Jinja2>=3.0 in c:\\python311\\lib\\site-packages (from flask) (3.1.2)\n",
      "Requirement already satisfied: itsdangerous>=2.0 in c:\\python311\\lib\\site-packages (from flask) (2.1.2)\n",
      "Requirement already satisfied: click>=8.0 in c:\\python311\\lib\\site-packages (from flask) (8.1.3)\n",
      "Requirement already satisfied: colorama in c:\\users\\tbara\\appdata\\roaming\\python\\python311\\site-packages (from click>=8.0->flask) (0.4.6)\n",
      "Requirement already satisfied: MarkupSafe>=2.0 in c:\\python311\\lib\\site-packages (from Jinja2>=3.0->flask) (2.1.2)\n",
      "Note: you may need to restart the kernel to use updated packages.\n"
     ]
    },
    {
     "name": "stderr",
     "output_type": "stream",
     "text": [
      "\n",
      "[notice] A new release of pip is available: 23.0 -> 23.0.1\n",
      "[notice] To update, run: python.exe -m pip install --upgrade pip\n"
     ]
    }
   ],
   "source": [
    "%pip install requests\n",
    "%pip install bs4\n",
    "%pip install flask\n"
   ]
  },
  {
   "cell_type": "code",
   "execution_count": 2,
   "metadata": {},
   "outputs": [],
   "source": [
    "from requests import get\n",
    "from bs4 import BeautifulSoup\n",
    "from flask import Flask, render_template, request, redirect, url_for\n"
   ]
  },
  {
   "cell_type": "code",
   "execution_count": 3,
   "metadata": {},
   "outputs": [],
   "source": [
    "def save_to_file(file_name, jobs):\n",
    "    file = open(f\"{file_name}.csv\", \"w\")\n",
    "    file.write(\"Position,Company,Location,URL\\n\")\n",
    "\n",
    "    for job in jobs:\n",
    "        file.write(f\"{job['position']},\" + f\"{job['company']},\" +\n",
    "                   f\"{job['location']},\" + f\"{job['link']}\\n\")\n",
    "        file.close()\n"
   ]
  },
  {
   "cell_type": "code",
   "execution_count": 4,
   "metadata": {},
   "outputs": [],
   "source": [
    "def extract_jobs(keyword):\n",
    "    results = []\n",
    "    url = f\"https://remoteok.com/remote-{keyword}-jobs\"\n",
    "    request = get(url, headers={\"User-Agent\": \"Kimchi\"})\n",
    "    if request.status_code == 200:\n",
    "        soup = BeautifulSoup(request.text, \"html.parser\")\n",
    "        jobs = soup.find_all(\"tr\", {\"class\": \"job\"})\n",
    "        for job in jobs:\n",
    "            # ! strip()은 공백을 제거해준다.\n",
    "            title = job.find(\"h2\", {\"itemprop\": \"title\"}).text.strip()\n",
    "            company = job.find(\"h3\", {\"itemprop\": \"name\"}).text.strip()\n",
    "            link = job.find(\"a\", {\"itemprop\": \"url\"})[\"href\"]\n",
    "            job_data = {\n",
    "                \"title\": title,\n",
    "                \"company\": company,\n",
    "                \"link\": f\"https://remoteok.com{link}\"\n",
    "            }\n",
    "            results.append(job_data)\n",
    "            print(f\"{title} - {company} - {link}\")\n",
    "            # write your ✨magical✨ code here\n",
    "        return results\n",
    "    else:\n",
    "        print(\"Can't get jobs.\")\n"
   ]
  },
  {
   "cell_type": "code",
   "execution_count": 5,
   "metadata": {},
   "outputs": [],
   "source": [
    "app = Flask(\"JobScrapper\")\n",
    "\n",
    "\n",
    "@app.route(\"/\")\n",
    "def home():\n",
    "    return render_template(\"home.html\", name=\"jeongbin\")\n",
    "\n",
    "\n",
    "@app.route(\"/hello\")\n",
    "def hello():\n",
    "    return 'hello!'\n",
    "\n",
    "\n",
    "@app.route(\"/search\")\n",
    "def search():\n",
    "    keyword = request.args.get(\"keyword\")\n",
    "    if keyword:\n",
    "        keyword = keyword.lower()\n",
    "        jobs = extract_jobs(keyword)\n",
    "        return render_template(\"search.html\", keyword=keyword, jobs=jobs)\n",
    "    else:\n",
    "        return redirect(\"/\")\n"
   ]
  },
  {
   "cell_type": "code",
   "execution_count": 6,
   "metadata": {},
   "outputs": [
    {
     "name": "stdout",
     "output_type": "stream",
     "text": [
      " * Serving Flask app 'JobScrapper'\n",
      " * Debug mode: off\n"
     ]
    },
    {
     "name": "stderr",
     "output_type": "stream",
     "text": [
      "WARNING: This is a development server. Do not use it in a production deployment. Use a production WSGI server instead.\n",
      " * Running on all addresses (0.0.0.0)\n",
      " * Running on http://127.0.0.1:8000\n",
      " * Running on http://172.30.1.55:8000\n",
      "Press CTRL+C to quit\n",
      "127.0.0.1 - - [23/Mar/2023 16:14:58] \"GET /graphql HTTP/1.1\" 404 -\n",
      "127.0.0.1 - - [23/Mar/2023 16:14:58] \"GET /graphql HTTP/1.1\" 404 -\n",
      "127.0.0.1 - - [23/Mar/2023 16:15:21] \"GET / HTTP/1.1\" 200 -\n",
      "127.0.0.1 - - [23/Mar/2023 16:15:21] \"GET / HTTP/1.1\" 200 -\n",
      "127.0.0.1 - - [23/Mar/2023 16:15:21] \"GET / HTTP/1.1\" 200 -\n",
      "127.0.0.1 - - [23/Mar/2023 16:15:45] \"GET / HTTP/1.1\" 200 -\n",
      "127.0.0.1 - - [23/Mar/2023 16:15:45] \"GET / HTTP/1.1\" 200 -\n",
      "127.0.0.1 - - [23/Mar/2023 16:15:45] \"GET / HTTP/1.1\" 200 -\n"
     ]
    }
   ],
   "source": [
    "app.run(host=\"0.0.0.0\", port=8000)\n"
   ]
  },
  {
   "cell_type": "code",
   "execution_count": null,
   "metadata": {},
   "outputs": [],
   "source": []
  }
 ],
 "metadata": {
  "kernelspec": {
   "display_name": "Python 3",
   "language": "python",
   "name": "python3"
  },
  "language_info": {
   "codemirror_mode": {
    "name": "ipython",
    "version": 3
   },
   "file_extension": ".py",
   "mimetype": "text/x-python",
   "name": "python",
   "nbconvert_exporter": "python",
   "pygments_lexer": "ipython3",
   "version": "3.11.1"
  },
  "orig_nbformat": 4,
  "vscode": {
   "interpreter": {
    "hash": "c261aea317cc0286b3b3261fbba9abdec21eaa57589985bb7a274bf54d6cc0a7"
   }
  }
 },
 "nbformat": 4,
 "nbformat_minor": 2
}
