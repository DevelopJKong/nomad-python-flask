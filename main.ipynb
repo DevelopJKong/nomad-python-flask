{
 "cells": [
  {
   "cell_type": "code",
   "execution_count": 3,
   "metadata": {},
   "outputs": [
    {
     "name": "stdout",
     "output_type": "stream",
     "text": [
      "Requirement already satisfied: requests in c:\\python311\\lib\\site-packages (2.28.2)Note: you may need to restart the kernel to use updated packages.\n",
      "\n",
      "Requirement already satisfied: charset-normalizer<4,>=2 in c:\\python311\\lib\\site-packages (from requests) (3.1.0)\n",
      "Requirement already satisfied: idna<4,>=2.5 in c:\\python311\\lib\\site-packages (from requests) (3.4)\n",
      "Requirement already satisfied: urllib3<1.27,>=1.21.1 in c:\\python311\\lib\\site-packages (from requests) (1.26.15)\n",
      "Requirement already satisfied: certifi>=2017.4.17 in c:\\python311\\lib\\site-packages (from requests) (2022.12.7)\n"
     ]
    },
    {
     "name": "stderr",
     "output_type": "stream",
     "text": [
      "\n",
      "[notice] A new release of pip is available: 23.0 -> 23.0.1\n",
      "[notice] To update, run: python.exe -m pip install --upgrade pip\n"
     ]
    },
    {
     "name": "stdout",
     "output_type": "stream",
     "text": [
      "Collecting bs4\n",
      "  Using cached bs4-0.0.1.tar.gz (1.1 kB)\n",
      "  Preparing metadata (setup.py): started\n",
      "  Preparing metadata (setup.py): finished with status 'done'\n",
      "Requirement already satisfied: beautifulsoup4 in c:\\python311\\lib\\site-packages (from bs4) (4.12.0)\n",
      "Requirement already satisfied: soupsieve>1.2 in c:\\python311\\lib\\site-packages (from beautifulsoup4->bs4) (2.4)\n",
      "Building wheels for collected packages: bs4\n",
      "  Building wheel for bs4 (setup.py): started\n",
      "  Building wheel for bs4 (setup.py): finished with status 'done'\n",
      "  Created wheel for bs4: filename=bs4-0.0.1-py3-none-any.whl size=1264 sha256=d798109d0c15f439c963089821fc5a8969c0f6bdc7484137f8067c30215eb24f\n",
      "  Stored in directory: c:\\users\\tbara\\appdata\\local\\pip\\cache\\wheels\\d4\\c8\\5b\\b5be9c20e5e4503d04a6eac8a3cd5c2393505c29f02bea0960\n",
      "Successfully built bs4\n",
      "Installing collected packages: bs4\n",
      "Successfully installed bs4-0.0.1\n",
      "Note: you may need to restart the kernel to use updated packages.\n"
     ]
    },
    {
     "name": "stderr",
     "output_type": "stream",
     "text": [
      "\n",
      "[notice] A new release of pip is available: 23.0 -> 23.0.1\n",
      "[notice] To update, run: python.exe -m pip install --upgrade pip\n"
     ]
    }
   ],
   "source": [
    "%pip install requests\n",
    "%pip install bs4"
   ]
  },
  {
   "cell_type": "code",
   "execution_count": 4,
   "metadata": {},
   "outputs": [],
   "source": [
    "from requests import get\n",
    "from bs4 import BeautifulSoup"
   ]
  },
  {
   "cell_type": "code",
   "execution_count": 7,
   "metadata": {},
   "outputs": [
    {
     "name": "stdout",
     "output_type": "stream",
     "text": [
      "Fullstack developer senior - CloudDevs - /remote-jobs/remote-fullstack-developer-senior-clouddevs-207318\n",
      "Senior Backend Python Developer - Proxify - /remote-jobs/remote-senior-backend-python-developer-proxify-206355\n",
      "Workflow Automation Specialist - Opzer.co - /remote-jobs/remote-workflow-automation-specialist-opzer-co-202539\n",
      "Data Engineer - Art Blocks - /remote-jobs/remote-data-engineer-art-blocks-201880\n",
      "Data Engineer Intern - DeFiner - /remote-jobs/remote-data-engineer-intern-definer-199886\n",
      "DevOps Engineer Freelance - Braintrust - /remote-jobs/remote-devops-engineer-freelance-braintrust-199343\n",
      "Senior Backend Software Engineer - Stellar - /remote-jobs/remote-senior-backend-software-engineer-stellar-198342\n",
      "Associate Full Stack Developer - Epsilamic Solutions - /remote-jobs/remote-associate-full-stack-developer-epsilamic-solutions-197082\n",
      "Data Engineer - Scalapay - /remote-jobs/remote-data-engineer-scalapay-188410\n",
      "Engineer Golang Python - FinCompare - /remote-jobs/remote-engineer-golang-python-fincompare-183780\n",
      "Senior DevOps Engineer - Twist Bioscience - /remote-jobs/remote-senior-devops-engineer-twist-bioscience-167248\n",
      "Senior Software Engineer Test Hybrid - SonicWall - /remote-jobs/remote-senior-software-engineer-test-hybrid-sonicwall-166721\n",
      "Penetration Tester - ScienceLogic - /remote-jobs/remote-penetration-tester-sciencelogic-164585\n",
      "Senior Site Reliability Expert - Lightspeed Commerce - /remote-jobs/remote-senior-site-reliability-expert-lightspeed-commerce-163296\n",
      "Online Technology Intern - PlayStation Global - /remote-jobs/remote-online-technology-intern-playstation-global-157134\n",
      "Lead Data Engineer - ICF - /remote-jobs/remote-lead-data-engineer-icf-156917\n",
      "Technical Lead Data Pipeline GPU Python C+ - Planet - /remote-jobs/remote-technical-lead-data-pipeline-gpu-python-c-planet-156908\n",
      "Solution Architect - ICF - /remote-jobs/remote-solution-architect-icf-156887\n",
      "IT Manager - Civis Analytics - /remote-jobs/remote-it-manager-civis-analytics-151380\n",
      "Security Automation Engineer - KnowBe4 - /remote-jobs/remote-security-automation-engineer-knowbe4-149809\n"
     ]
    },
    {
     "data": {
      "text/plain": [
       "[{'title': 'Fullstack developer senior',\n",
       "  'company': 'CloudDevs',\n",
       "  'link': 'https://remoteok.com/remote-jobs/remote-fullstack-developer-senior-clouddevs-207318'},\n",
       " {'title': 'Senior Backend Python Developer',\n",
       "  'company': 'Proxify',\n",
       "  'link': 'https://remoteok.com/remote-jobs/remote-senior-backend-python-developer-proxify-206355'},\n",
       " {'title': 'Workflow Automation Specialist',\n",
       "  'company': 'Opzer.co',\n",
       "  'link': 'https://remoteok.com/remote-jobs/remote-workflow-automation-specialist-opzer-co-202539'},\n",
       " {'title': 'Data Engineer',\n",
       "  'company': 'Art Blocks',\n",
       "  'link': 'https://remoteok.com/remote-jobs/remote-data-engineer-art-blocks-201880'},\n",
       " {'title': 'Data Engineer Intern',\n",
       "  'company': 'DeFiner',\n",
       "  'link': 'https://remoteok.com/remote-jobs/remote-data-engineer-intern-definer-199886'},\n",
       " {'title': 'DevOps Engineer Freelance',\n",
       "  'company': 'Braintrust',\n",
       "  'link': 'https://remoteok.com/remote-jobs/remote-devops-engineer-freelance-braintrust-199343'},\n",
       " {'title': 'Senior Backend Software Engineer',\n",
       "  'company': 'Stellar',\n",
       "  'link': 'https://remoteok.com/remote-jobs/remote-senior-backend-software-engineer-stellar-198342'},\n",
       " {'title': 'Associate Full Stack Developer',\n",
       "  'company': 'Epsilamic Solutions',\n",
       "  'link': 'https://remoteok.com/remote-jobs/remote-associate-full-stack-developer-epsilamic-solutions-197082'},\n",
       " {'title': 'Data Engineer',\n",
       "  'company': 'Scalapay',\n",
       "  'link': 'https://remoteok.com/remote-jobs/remote-data-engineer-scalapay-188410'},\n",
       " {'title': 'Engineer Golang Python',\n",
       "  'company': 'FinCompare',\n",
       "  'link': 'https://remoteok.com/remote-jobs/remote-engineer-golang-python-fincompare-183780'},\n",
       " {'title': 'Senior DevOps Engineer',\n",
       "  'company': 'Twist Bioscience',\n",
       "  'link': 'https://remoteok.com/remote-jobs/remote-senior-devops-engineer-twist-bioscience-167248'},\n",
       " {'title': 'Senior Software Engineer Test Hybrid',\n",
       "  'company': 'SonicWall',\n",
       "  'link': 'https://remoteok.com/remote-jobs/remote-senior-software-engineer-test-hybrid-sonicwall-166721'},\n",
       " {'title': 'Penetration Tester',\n",
       "  'company': 'ScienceLogic',\n",
       "  'link': 'https://remoteok.com/remote-jobs/remote-penetration-tester-sciencelogic-164585'},\n",
       " {'title': 'Senior Site Reliability Expert',\n",
       "  'company': 'Lightspeed Commerce',\n",
       "  'link': 'https://remoteok.com/remote-jobs/remote-senior-site-reliability-expert-lightspeed-commerce-163296'},\n",
       " {'title': 'Online Technology Intern',\n",
       "  'company': 'PlayStation Global',\n",
       "  'link': 'https://remoteok.com/remote-jobs/remote-online-technology-intern-playstation-global-157134'},\n",
       " {'title': 'Lead Data Engineer',\n",
       "  'company': 'ICF',\n",
       "  'link': 'https://remoteok.com/remote-jobs/remote-lead-data-engineer-icf-156917'},\n",
       " {'title': 'Technical Lead Data Pipeline GPU Python C+',\n",
       "  'company': 'Planet',\n",
       "  'link': 'https://remoteok.com/remote-jobs/remote-technical-lead-data-pipeline-gpu-python-c-planet-156908'},\n",
       " {'title': 'Solution Architect',\n",
       "  'company': 'ICF',\n",
       "  'link': 'https://remoteok.com/remote-jobs/remote-solution-architect-icf-156887'},\n",
       " {'title': 'IT Manager',\n",
       "  'company': 'Civis Analytics',\n",
       "  'link': 'https://remoteok.com/remote-jobs/remote-it-manager-civis-analytics-151380'},\n",
       " {'title': 'Security Automation Engineer',\n",
       "  'company': 'KnowBe4',\n",
       "  'link': 'https://remoteok.com/remote-jobs/remote-security-automation-engineer-knowbe4-149809'}]"
      ]
     },
     "execution_count": 7,
     "metadata": {},
     "output_type": "execute_result"
    }
   ],
   "source": [
    "def extract_jobs(keyword):\n",
    "    results = []\n",
    "    url = f\"https://remoteok.com/remote-{keyword}-jobs\"\n",
    "    request = get(url, headers={\"User-Agent\": \"Kimchi\"})\n",
    "    if request.status_code == 200:\n",
    "        soup = BeautifulSoup(request.text, \"html.parser\")\n",
    "        jobs = soup.find_all(\"tr\", {\"class\": \"job\"})\n",
    "        for job in jobs:\n",
    "            # ! strip()은 공백을 제거해준다.\n",
    "            title = job.find(\"h2\", {\"itemprop\": \"title\"}).text.strip()\n",
    "            company = job.find(\"h3\", {\"itemprop\": \"name\"}).text.strip()\n",
    "            link = job.find(\"a\", {\"itemprop\": \"url\"})[\"href\"]\n",
    "            job_data = {\n",
    "                \"title\": title,\n",
    "                \"company\": company,\n",
    "                \"link\": f\"https://remoteok.com{link}\"\n",
    "            }\n",
    "            results.append(job_data)\n",
    "            print(f\"{title} - {company} - {link}\")\n",
    "            # write your ✨magical✨ code here\n",
    "        return results\n",
    "    else:\n",
    "        print(\"Can't get jobs.\")\n",
    "\n",
    "\n",
    "extract_jobs(\"python\")\n"
   ]
  },
  {
   "cell_type": "code",
   "execution_count": null,
   "metadata": {},
   "outputs": [],
   "source": []
  }
 ],
 "metadata": {
  "kernelspec": {
   "display_name": "Python 3",
   "language": "python",
   "name": "python3"
  },
  "language_info": {
   "codemirror_mode": {
    "name": "ipython",
    "version": 3
   },
   "file_extension": ".py",
   "mimetype": "text/x-python",
   "name": "python",
   "nbconvert_exporter": "python",
   "pygments_lexer": "ipython3",
   "version": "3.11.1"
  },
  "orig_nbformat": 4,
  "vscode": {
   "interpreter": {
    "hash": "c261aea317cc0286b3b3261fbba9abdec21eaa57589985bb7a274bf54d6cc0a7"
   }
  }
 },
 "nbformat": 4,
 "nbformat_minor": 2
}
